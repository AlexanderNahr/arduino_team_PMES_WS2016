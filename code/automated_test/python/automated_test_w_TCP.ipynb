{
 "cells": [
  {
   "cell_type": "markdown",
   "metadata": {},
   "source": [
    "# Imports"
   ]
  },
  {
   "cell_type": "code",
   "execution_count": 1,
   "metadata": {
    "collapsed": true
   },
   "outputs": [],
   "source": [
    "import socket\n",
    "import time"
   ]
  },
  {
   "cell_type": "markdown",
   "metadata": {},
   "source": [
    "# Open TCP port"
   ]
  },
  {
   "cell_type": "code",
   "execution_count": 64,
   "metadata": {
    "collapsed": true
   },
   "outputs": [],
   "source": [
    "ip_address = '1.2.3.4'\n",
    "port = 2000\n",
    "\n",
    "buffer_size = 64\n",
    "\n",
    "s=socket.socket(socket.AF_INET, socket.SOCK_STREAM)\n",
    "s.connect((ip_address, port))\n",
    "time.sleep(3)"
   ]
  },
  {
   "cell_type": "markdown",
   "metadata": {},
   "source": [
    "# Run test cases and close connection"
   ]
  },
  {
   "cell_type": "code",
   "execution_count": 63,
   "metadata": {
    "collapsed": false
   },
   "outputs": [
    {
     "name": "stdout",
     "output_type": "stream",
     "text": [
      "*HELLO*[SIGN_IN_RS%0%0%PW_WRONG]\n",
      "\n",
      "[SIGN_IN_RS%0%0%SUCCESSFUL]\n",
      "\n",
      "[SIGN_IN_RS%0%0%SUCCESSFUL]\n",
      "\n",
      "[ORDER_RS%SUCCESSFUL%0%0]\n",
      "\n",
      "[ORDER_RS%PW_WRONG%1%27]\n",
      "\n"
     ]
    }
   ],
   "source": [
    "messages = ['[SIGN_IN%a]', \n",
    "            '[SIGN_IN%ilias2017]', \n",
    "            '[SIGN_IN%ilias2017]', \n",
    "            '[ORDER%ilias2017%6;1;00244;10342;61130;30534;51221;21413]',\n",
    "            '[ORDER%a%1;2;11111;22222;33333]'\n",
    "            #'[SIGN_OUT]'\n",
    "            ]\n",
    "            \n",
    "for index, message in enumerate( messages):\n",
    "    s.send(messages[ index ])\n",
    "    time.sleep(3)\n",
    "    data = s.recv(buffer_size)\n",
    "    print( data)\n",
    "\n",
    "s.close()"
   ]
  },
  {
   "cell_type": "markdown",
   "metadata": {},
   "source": [
    "# Single tests"
   ]
  },
  {
   "cell_type": "code",
   "execution_count": 68,
   "metadata": {
    "collapsed": false
   },
   "outputs": [
    {
     "ename": "error",
     "evalue": "[Errno 10053] An established connection was aborted by the software in your host machine",
     "output_type": "error",
     "traceback": [
      "\u001b[1;31m---------------------------------------------------------------------------\u001b[0m",
      "\u001b[1;31merror\u001b[0m                                     Traceback (most recent call last)",
      "\u001b[1;32m<ipython-input-68-cae2517951c0>\u001b[0m in \u001b[0;36m<module>\u001b[1;34m()\u001b[0m\n\u001b[0;32m      3\u001b[0m \u001b[0ms\u001b[0m\u001b[1;33m.\u001b[0m\u001b[0msend\u001b[0m\u001b[1;33m(\u001b[0m\u001b[0mmessage\u001b[0m\u001b[1;33m)\u001b[0m\u001b[1;33m\u001b[0m\u001b[0m\n\u001b[0;32m      4\u001b[0m \u001b[0mtime\u001b[0m\u001b[1;33m.\u001b[0m\u001b[0msleep\u001b[0m\u001b[1;33m(\u001b[0m\u001b[1;36m3\u001b[0m\u001b[1;33m)\u001b[0m\u001b[1;33m\u001b[0m\u001b[0m\n\u001b[1;32m----> 5\u001b[1;33m \u001b[0mdata\u001b[0m \u001b[1;33m=\u001b[0m \u001b[0ms\u001b[0m\u001b[1;33m.\u001b[0m\u001b[0mrecv\u001b[0m\u001b[1;33m(\u001b[0m\u001b[0mbuffer_size\u001b[0m\u001b[1;33m)\u001b[0m\u001b[1;33m\u001b[0m\u001b[0m\n\u001b[0m\u001b[0;32m      6\u001b[0m \u001b[1;32mprint\u001b[0m\u001b[1;33m(\u001b[0m \u001b[0mdata\u001b[0m\u001b[1;33m)\u001b[0m\u001b[1;33m\u001b[0m\u001b[0m\n",
      "\u001b[1;31merror\u001b[0m: [Errno 10053] An established connection was aborted by the software in your host machine"
     ]
    }
   ],
   "source": [
    "message = '[SIGN_OUT]'\n",
    "\n",
    "s.send(message)\n",
    "time.sleep(3)\n",
    "data = s.recv(buffer_size)\n",
    "print( data)"
   ]
  },
  {
   "cell_type": "code",
   "execution_count": 50,
   "metadata": {
    "collapsed": true
   },
   "outputs": [],
   "source": [
    "s.close()"
   ]
  }
 ],
 "metadata": {
  "kernelspec": {
   "display_name": "Python 2",
   "language": "python",
   "name": "python2"
  },
  "language_info": {
   "codemirror_mode": {
    "name": "ipython",
    "version": 2
   },
   "file_extension": ".py",
   "mimetype": "text/x-python",
   "name": "python",
   "nbconvert_exporter": "python",
   "pygments_lexer": "ipython2",
   "version": "2.7.11"
  }
 },
 "nbformat": 4,
 "nbformat_minor": 0
}
