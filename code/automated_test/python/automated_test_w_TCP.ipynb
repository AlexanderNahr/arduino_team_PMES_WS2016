{
 "cells": [
  {
   "cell_type": "markdown",
   "metadata": {},
   "source": [
    "# Imports"
   ]
  },
  {
   "cell_type": "code",
   "execution_count": 54,
   "metadata": {
    "collapsed": true
   },
   "outputs": [],
   "source": [
    "import socket # tcp ip client\n",
    "import time   # time measurement\n",
    "import select # timeout tcp ip client recv"
   ]
  },
  {
   "cell_type": "markdown",
   "metadata": {},
   "source": [
    "# Open TCP port"
   ]
  },
  {
   "cell_type": "code",
   "execution_count": 59,
   "metadata": {
    "collapsed": false
   },
   "outputs": [],
   "source": [
    "ip_address = '1.2.3.4'\n",
    "port = 2000\n",
    "\n",
    "buffer_size = 64\n",
    "\n",
    "s=socket.socket(socket.AF_INET, socket.SOCK_STREAM)\n",
    "#s.setblocking(0)  # set blocking so recv is never blocked\n",
    "s.connect((ip_address, port))\n"
   ]
  },
  {
   "cell_type": "markdown",
   "metadata": {},
   "source": [
    "# Run test cases and close connection"
   ]
  },
  {
   "cell_type": "code",
   "execution_count": 60,
   "metadata": {
    "collapsed": false,
    "scrolled": true
   },
   "outputs": [
    {
     "name": "stdout",
     "output_type": "stream",
     "text": [
      "Connect: <- *HELLO*\n",
      "TC0: -> [SIGN_IN%a], <- [SIGN_IN_RS%0%0%PW_WRONG]\n",
      "\n",
      "TC1: -> [ORDER%ilias2017%20;1;00244;00244;00244;00244;00244;00244;00244;00244;00244;00244;00244;00244;00244;00244;00244;00244;00244;00244;00244;00244], <- no data received\n",
      "TC2: -> [SIGN_IN%ilias2017], <- [ORDER_RS%ORDER_WRONG%0%0]\n",
      "\n",
      "TC3: -> [ORDER%ilias2017%20;1;00244;00244;00244;00244;00244;00244;00244;00244;00244;00244;00244;00244;00244;00244;00244;00244;00244;00244;00244;00244], <- no data received\n",
      "TC4: -> [SIGN_IN%ilias2017], <- [ORDER_RS%ORDER_WRONG%0%0]\n",
      "\n",
      "TC5: -> [SIGN_OUT], <- no data received\n",
      "Connection closed!\n"
     ]
    }
   ],
   "source": [
    "messages  = ['[SIGN_IN%a]',\n",
    "             '[ORDER%ilias2017%6;1;00244;10342;61130;30534;51221;21413]',\n",
    "             '[SIGN_IN%ilias2017]', \n",
    "             '[SIGN_IN%ilias2017]', \n",
    "             '[ORDER%ilias2017%6;1;00244;10342;61130;30534;51221;21413]',\n",
    "             '[ORDER%a%1;2;11111;22222;33333]',\n",
    "             '[ORDER%ilias2017%6;1;00244;10342;61130;30534;51221;21413]',\n",
    "             '[ORDER%ilias2017%6;1;00244;10342;61130;30534;51221;21413]',\n",
    "             '[ORDER%ilias2017%6;1;00244;10342;61130;30534;51221;21413]',\n",
    "             '[ORDER%ilias2017%6;1;00244;10342;61130;30534;51221;21413]',\n",
    "             '[SIGN_OUT]'\n",
    "            ]\n",
    "\n",
    "messages2 = ['[SIGN_IN%a]', # sign in wrong\n",
    "             '[ORDER%ilias2017%20;1;00244;00244;00244;00244;00244;00244;00244;00244;00244;00244;00244;00244;00244;00244;00244;00244;00244;00244;00244;00244]', #order before sign in\n",
    "             '[SIGN_IN%ilias2017]', # sign in correct\n",
    "             '[ORDER%ilias2017%20;1;00244;00244;00244;00244;00244;00244;00244;00244;00244;00244;00244;00244;00244;00244;00244;00244;00244;00244;00244;00244]', # first roder\n",
    "             '[SIGN_IN%ilias2017]', # keep alive\n",
    "             '[SIGN_OUT]'\n",
    "            ]\n",
    "\n",
    "messages3  = ['[SIGN_IN%a]',\n",
    "            '[SIGN_IN%ilias2017]', \n",
    "            '[SIGN_IN%ilias2017]', \n",
    "            '[ORDER%ilias2017%6;1;00244;10342;61130;30534;51221;21413]',\n",
    "            '[ORDER%a%1;2;11111;22222;33333]',\n",
    "            '[SIGN_OUT]'\n",
    "            ]\n",
    "\n",
    "active_message_list = messages2\n",
    "\n",
    "# read initial data \n",
    "ready = select.select([s],[],[], 3 )\n",
    "if ready[0]:\n",
    "    data = s.recv(buffer_size)\n",
    "else:\n",
    "    data = \"no data received\"\n",
    "print('Connect: <- ' + data)\n",
    "    \n",
    "\n",
    "for index, message in enumerate( active_message_list):\n",
    "    s.send(active_message_list[ index ])\n",
    "\n",
    "    ready = select.select([s],[],[], 4 )\n",
    "    time.sleep(3)\n",
    "    if ready[0]:\n",
    "        data = s.recv(buffer_size)\n",
    "    else:\n",
    "        data = \"no data received\"\n",
    "    print( 'TC' + str(index) + ': -> ' + message + ', <- ' + data )\n",
    "    time.sleep(1)\n",
    "s.close()\n",
    "print( \"Connection closed!\")"
   ]
  },
  {
   "cell_type": "markdown",
   "metadata": {},
   "source": [
    "# Single tests"
   ]
  },
  {
   "cell_type": "code",
   "execution_count": 68,
   "metadata": {
    "collapsed": false
   },
   "outputs": [
    {
     "ename": "error",
     "evalue": "[Errno 10053] An established connection was aborted by the software in your host machine",
     "output_type": "error",
     "traceback": [
      "\u001b[1;31m---------------------------------------------------------------------------\u001b[0m",
      "\u001b[1;31merror\u001b[0m                                     Traceback (most recent call last)",
      "\u001b[1;32m<ipython-input-68-cae2517951c0>\u001b[0m in \u001b[0;36m<module>\u001b[1;34m()\u001b[0m\n\u001b[0;32m      3\u001b[0m \u001b[0ms\u001b[0m\u001b[1;33m.\u001b[0m\u001b[0msend\u001b[0m\u001b[1;33m(\u001b[0m\u001b[0mmessage\u001b[0m\u001b[1;33m)\u001b[0m\u001b[1;33m\u001b[0m\u001b[0m\n\u001b[0;32m      4\u001b[0m \u001b[0mtime\u001b[0m\u001b[1;33m.\u001b[0m\u001b[0msleep\u001b[0m\u001b[1;33m(\u001b[0m\u001b[1;36m3\u001b[0m\u001b[1;33m)\u001b[0m\u001b[1;33m\u001b[0m\u001b[0m\n\u001b[1;32m----> 5\u001b[1;33m \u001b[0mdata\u001b[0m \u001b[1;33m=\u001b[0m \u001b[0ms\u001b[0m\u001b[1;33m.\u001b[0m\u001b[0mrecv\u001b[0m\u001b[1;33m(\u001b[0m\u001b[0mbuffer_size\u001b[0m\u001b[1;33m)\u001b[0m\u001b[1;33m\u001b[0m\u001b[0m\n\u001b[0m\u001b[0;32m      6\u001b[0m \u001b[1;32mprint\u001b[0m\u001b[1;33m(\u001b[0m \u001b[0mdata\u001b[0m\u001b[1;33m)\u001b[0m\u001b[1;33m\u001b[0m\u001b[0m\n",
      "\u001b[1;31merror\u001b[0m: [Errno 10053] An established connection was aborted by the software in your host machine"
     ]
    }
   ],
   "source": [
    "message = '[SIGN_OUT]'\n",
    "\n",
    "s.send(message)\n",
    "time.sleep(3)\n",
    "data = s.recv(buffer_size)\n",
    "print( data)"
   ]
  },
  {
   "cell_type": "code",
   "execution_count": 19,
   "metadata": {
    "collapsed": true
   },
   "outputs": [],
   "source": [
    "s.close()"
   ]
  }
 ],
 "metadata": {
  "kernelspec": {
   "display_name": "Python 2",
   "language": "python",
   "name": "python2"
  },
  "language_info": {
   "codemirror_mode": {
    "name": "ipython",
    "version": 2
   },
   "file_extension": ".py",
   "mimetype": "text/x-python",
   "name": "python",
   "nbconvert_exporter": "python",
   "pygments_lexer": "ipython2",
   "version": "2.7.11"
  }
 },
 "nbformat": 4,
 "nbformat_minor": 0
}
