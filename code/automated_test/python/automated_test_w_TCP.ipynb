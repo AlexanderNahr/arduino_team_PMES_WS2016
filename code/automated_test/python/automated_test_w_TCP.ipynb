{
 "cells": [
  {
   "cell_type": "markdown",
   "metadata": {},
   "source": [
    "# Imports"
   ]
  },
  {
   "cell_type": "code",
   "execution_count": 1,
   "metadata": {
    "collapsed": true
   },
   "outputs": [],
   "source": [
    "import socket # tcp ip client\n",
    "import time   # time measurement\n",
    "import select # timeout tcp ip client recv"
   ]
  },
  {
   "cell_type": "markdown",
   "metadata": {},
   "source": [
    "# Open TCP port"
   ]
  },
  {
   "cell_type": "code",
   "execution_count": 2,
   "metadata": {
    "collapsed": false
   },
   "outputs": [],
   "source": [
    "ip_address = '1.2.3.4'\n",
    "port = 2000\n",
    "\n",
    "buffer_size = 64\n",
    "\n",
    "s=socket.socket(socket.AF_INET, socket.SOCK_STREAM)\n",
    "#s.setblocking(0)  # set blocking so recv is never blocked\n",
    "s.connect((ip_address, port))\n"
   ]
  },
  {
   "cell_type": "markdown",
   "metadata": {},
   "source": [
    "# Run test cases and close connection"
   ]
  },
  {
   "cell_type": "code",
   "execution_count": 3,
   "metadata": {
    "collapsed": false,
    "scrolled": false
   },
   "outputs": [
    {
     "name": "stdout",
     "output_type": "stream",
     "text": [
      "Connect: <- b'*HELLO*'\n",
      "TC0: -> [SIGN_IN%a], <- b'[SIGN_IN_RS%0%0%PW_WRONG]\\n', length: 26\n",
      "TC1: -> [ORDER%ilias2017%6;1;00244;10342;61130;30534;51221;21413], <- b'[ORDER_RS%SUCCESSFUL%0%0]\\n', length: 26\n",
      "TC2: -> [SIGN_IN%ilias2017], <- b'[SIGN_IN_RS%1%175%SUCCESSFUL]\\n', length: 30\n",
      "TC3: -> [SIGN_IN%ilias2017], <- b'[SIGN_IN_RS%1%170%SUCCESSFUL]\\n', length: 30\n",
      "TC4: -> [ORDER%ilias2017%6;1;00244;10342;61130;30534;51221;21413], <- b'[ORDER_RS%SUCCESSFUL%1%165]\\n', length: 28\n",
      "TC5: -> [ORDER%a%1;2;11111;22222;33333], <- b'[ORDER_RS%PW_WRONG%2%340]\\n', length: 26\n",
      "TC6: -> [ORDER%ilias2017%6;1;00244;10342;61130;30534;51221;21413], <- b'[ORDER_RS%SUCCESSFUL%2%335]\\n', length: 28\n",
      "TC7: -> [ORDER%ilias2017%6;1;00244;10342;61130;30534;51221;21413], <- b'[ORDER_RS%SUCCESSFUL%3%510]\\n', length: 28\n",
      "TC8: -> [ORDER%ilias2017%6;1;00244;10342;61130;30534;51221;21413], <- b'[ORDER_RS%SUCCESSFUL%4%685]\\n', length: 28\n",
      "TC9: -> [ORDER%ilias2017%6;1;00244;10342;61130;30534;51221;21413], <- b'[ORDER_RS%ERROR%5%860]\\n', length: 23\n",
      "TC10: -> [SIGN_OUT], <- no data received, length: 16\n",
      "Connection closed!\n"
     ]
    }
   ],
   "source": [
    "messages6  = ['[SIGN_IN%a]',\n",
    "             '[ORDER%ilias2017%6;1;00244;10342;61130;30534;51221;21413]',\n",
    "             '[SIGN_IN%ilias2017]', \n",
    "             '[SIGN_IN%ilias2017]', \n",
    "             '[ORDER%ilias2017%6;1;00244;10342;61130;30534;51221;21413]',\n",
    "             '[ORDER%a%1;2;11111;22222;33333]',\n",
    "             '[ORDER%ilias2017%6;1;00244;10342;61130;30534;51221;21413]',\n",
    "             '[ORDER%ilias2017%6;1;00244;10342;61130;30534;51221;21413]',\n",
    "             '[ORDER%ilias2017%6;1;00244;10342;61130;30534;51221;21413]',\n",
    "             '[ORDER%ilias2017%6;1;00244;10342;61130;30534;51221;21413]',\n",
    "             '[SIGN_OUT]'\n",
    "            ]\n",
    "\n",
    "\n",
    "messages3  = ['[SIGN_IN%a]',\n",
    "            '[SIGN_IN%ilias2017]', \n",
    "            '[SIGN_IN%ilias2017]', \n",
    "            '[ORDER%ilias2017%6;1;00244;10342;61130;30534;51221;21413]',\n",
    "            '[ORDER%a%1;2;11111;22222;33333]',\n",
    "            '[SIGN_OUT]'\n",
    "            ]\n",
    "messages7  = ['[SIGN_IN%a]',\n",
    "              '[ORDER%ilias2017%7;1;00244;10342;61130;30534;51221;21413;21413]',\n",
    "              '[SIGN_IN%ilias2017]', \n",
    "              '[SIGN_IN%ilias2017]', \n",
    "              '[ORDER%ilias2017%7;1;00244;10342;61130;30534;51221;21413;21413]',\n",
    "              '[ORDER%a%1;2;11111;22222;33333]',\n",
    "              '[ORDER%ilias2017%7;1;00244;10342;61130;30534;51221;21413;21413]',\n",
    "              '[ORDER%ilias2017%7;1;00244;10342;61130;30534;51221;21413;21413]',\n",
    "              '[ORDER%ilias2017%7;1;00244;10342;61130;30534;51221;21413;21413]',\n",
    "              '[ORDER%ilias2017%7;1;00244;10342;61130;30534;51221;21413;21413]',\n",
    "              '[SIGN_OUT]'\n",
    "            ]\n",
    "\n",
    "messages8  = ['[SIGN_IN%a]',\n",
    "              '[ORDER%ilias2017%8;1;00244;10342;61130;30534;51221;21413;21413;21413]',\n",
    "              '[SIGN_IN%ilias2017]', \n",
    "              '[SIGN_IN%ilias2017]', \n",
    "              '[ORDER%ilias2017%8;1;00244;10342;61130;30534;51221;21413;21413;21413]',\n",
    "              '[ORDER%a%1;2;11111;22222;33333]',\n",
    "              '[ORDER%ilias2017%8;1;00244;10342;61130;30534;51221;21413;21413;21413]',\n",
    "              '[ORDER%ilias2017%8;1;00244;10342;61130;30534;51221;21413;21413;21413]',\n",
    "              '[ORDER%ilias2017%8;1;00244;10342;61130;30534;51221;21413;21413;21413]',\n",
    "              '[ORDER%ilias2017%8;1;00244;10342;61130;30534;51221;21413;21413;21413]',\n",
    "              '[SIGN_OUT]'\n",
    "            ]\n",
    "\n",
    "messages9  = ['[SIGN_IN%a]',\n",
    "              '[ORDER%ilias2017%9;1;00244;10342;61130;30534;51221;21413;21413;21413;21413]',\n",
    "              '[SIGN_IN%ilias2017]', \n",
    "              '[SIGN_IN%ilias2017]', \n",
    "              '[ORDER%ilias2017%9;1;00244;10342;61130;30534;51221;21413;21413;21413;21413]',\n",
    "              '[ORDER%a%1;2;11111;22222;33333]',\n",
    "              '[ORDER%ilias2017%9;1;00244;10342;61130;30534;51221;21413;21413;21413;21413]',\n",
    "              '[ORDER%ilias2017%9;1;00244;10342;61130;30534;51221;21413;21413;21413;21413]',\n",
    "              '[ORDER%ilias2017%9;1;00244;10342;61130;30534;51221;21413;21413;21413;21413]',\n",
    "              '[ORDER%ilias2017%9;1;00244;10342;61130;30534;51221;21413;21413;21413;21413]',\n",
    "              '[SIGN_OUT]'\n",
    "            ]\n",
    "\n",
    "messages10  = ['[SIGN_IN%a]',\n",
    "               '[ORDER%ilias2017%10;1;00244;10342;61130;30534;51221;21413;21413;21413;21413;21413]',\n",
    "               '[SIGN_IN%ilias2017]', \n",
    "               '[SIGN_IN%ilias2017]', \n",
    "               '[ORDER%ilias2017%10;1;00244;10342;61130;30534;51221;21413;21413;21413;21413;21413]',\n",
    "               '[ORDER%a%1;2;11111;22222;33333]',\n",
    "               '[ORDER%ilias2017%10;1;00244;10342;61130;30534;51221;21413;21413;21413;21413;21413]',\n",
    "               '[ORDER%ilias2017%10;1;00244;10342;61130;30534;51221;21413;21413;21413;21413;21413]',\n",
    "               '[ORDER%ilias2017%10;1;00244;10342;61130;30534;51221;21413;21413;21413;21413;21413]',\n",
    "               '[ORDER%ilias2017%10;1;00244;10342;61130;30534;51221;21413;21413;21413;21413;21413]',\n",
    "               '[SIGN_OUT]'\n",
    "            ]\n",
    "\n",
    "messages11  = ['[SIGN_IN%a]',\n",
    "               '[ORDER%ilias2017%11;1;00244;10342;61130;30534;51221;21413;21413;21413;21413;21413;21413]',\n",
    "               '[SIGN_IN%ilias2017]', \n",
    "               '[SIGN_IN%ilias2017]', \n",
    "               '[ORDER%ilias2017%11;1;00244;10342;61130;30534;51221;21413;21413;21413;21413;21413;21413]',\n",
    "               '[ORDER%a%1;2;11111;22222;33333]',\n",
    "               '[ORDER%ilias2017%11;1;00244;10342;61130;30534;51221;21413;21413;21413;21413;21413;21413]',\n",
    "               '[ORDER%ilias2017%11;1;00244;10342;61130;30534;51221;21413;21413;21413;21413;21413;21413]',\n",
    "               '[ORDER%ilias2017%11;1;00244;10342;61130;30534;51221;21413;21413;21413;21413;21413;21413]',\n",
    "               '[ORDER%ilias2017%11;1;00244;10342;61130;30534;51221;21413;21413;21413;21413;21413;21413]',\n",
    "               '[SIGN_OUT]'\n",
    "            ]\n",
    "\n",
    "messages12  = ['[SIGN_IN%a]',\n",
    "               '[ORDER%ilias2017%12;1;00244;10342;61130;30534;51221;21413;21413;21413;21413;21413;21413;21413]',\n",
    "               '[SIGN_IN%ilias2017]', \n",
    "               '[SIGN_IN%ilias2017]', \n",
    "               '[ORDER%ilias2017%12;1;00244;10342;61130;30534;51221;21413;21413;21413;21413;21413;21413;21413]',\n",
    "               '[ORDER%a%1;2;11111;22222;33333]',\n",
    "               '[ORDER%ilias2017%12;1;00244;10342;61130;30534;51221;21413;21413;21413;21413;21413;21413;21413]',\n",
    "               '[ORDER%ilias2017%12;1;00244;10342;61130;30534;51221;21413;21413;21413;21413;21413;21413;21413]',\n",
    "               '[ORDER%ilias2017%12;1;00244;10342;61130;30534;51221;21413;21413;21413;21413;21413;21413;21413]',\n",
    "               '[ORDER%ilias2017%12;1;00244;10342;61130;30534;51221;21413;21413;21413;21413;21413;21413;21413]',\n",
    "               '[SIGN_OUT]'\n",
    "            ]\n",
    "\n",
    "messages20 = ['[SIGN_IN%a]', # sign in wrong\n",
    "              '[ORDER%ilias2017%20;1;00244;00244;00244;00244;00244;00244;00244;00244;00244;00244;00244;00244;00244;00244;00244;00244;00244;00244;00244;00244]', #order before sign in\n",
    "              '[SIGN_IN%ilias2017]', # sign in correct\n",
    "              '[SIGN_IN%ilias2017]', \n",
    "              '[ORDER%ilias2017%20;1;00244;00244;00244;00244;00244;00244;00244;00244;00244;00244;00244;00244;00244;00244;00244;00244;00244;00244;00244;00244]', # first roder\n",
    "              '[ORDER%a%1;2;11111;22222;33333]',\n",
    "              '[ORDER%ilias2017%20;1;00244;00244;00244;00244;00244;00244;00244;00244;00244;00244;00244;00244;00244;00244;00244;00244;00244;00244;00244;00244]',\n",
    "              '[ORDER%ilias2017%20;1;00244;00244;00244;00244;00244;00244;00244;00244;00244;00244;00244;00244;00244;00244;00244;00244;00244;00244;00244;00244]',\n",
    "              '[ORDER%ilias2017%20;1;00244;00244;00244;00244;00244;00244;00244;00244;00244;00244;00244;00244;00244;00244;00244;00244;00244;00244;00244;00244]',\n",
    "              '[ORDER%ilias2017%20;1;00244;00244;00244;00244;00244;00244;00244;00244;00244;00244;00244;00244;00244;00244;00244;00244;00244;00244;00244;00244]',\n",
    "              '[SIGN_OUT]'\n",
    "            ]\n",
    "\n",
    "\n",
    "active_message_list = messages6\n",
    "\n",
    "# read initial data \n",
    "ready = select.select([s],[],[], 3 )\n",
    "if ready[0]:\n",
    "    data = s.recv(buffer_size)\n",
    "else:\n",
    "    data = \"no data received\"\n",
    "print('Connect: <- ' + str(data))\n",
    "    \n",
    "\n",
    "for index, message in enumerate(active_message_list):\n",
    "    #s.send(active_message_list[ index ])\n",
    "    s.send(active_message_list[index].encode())\n",
    "    ready = select.select([s],[],[], 4 )\n",
    "    time.sleep(3)\n",
    "    if ready[0]:\n",
    "        data = s.recv(buffer_size)\n",
    "    else:\n",
    "        data = \"no data received\"\n",
    "    #data.encode('UTF-8')\n",
    "    print( 'TC' + str(index) + ': -> ' + message + ', <- ' + str(data) + ', length: ' + str(len(data)) )\n",
    "    time.sleep(1)\n",
    "s.close()\n",
    "print( \"Connection closed!\")"
   ]
  },
  {
   "cell_type": "markdown",
   "metadata": {},
   "source": [
    "# Single tests"
   ]
  },
  {
   "cell_type": "code",
   "execution_count": 68,
   "metadata": {
    "collapsed": false
   },
   "outputs": [
    {
     "ename": "error",
     "evalue": "[Errno 10053] An established connection was aborted by the software in your host machine",
     "output_type": "error",
     "traceback": [
      "\u001b[1;31m---------------------------------------------------------------------------\u001b[0m",
      "\u001b[1;31merror\u001b[0m                                     Traceback (most recent call last)",
      "\u001b[1;32m<ipython-input-68-cae2517951c0>\u001b[0m in \u001b[0;36m<module>\u001b[1;34m()\u001b[0m\n\u001b[0;32m      3\u001b[0m \u001b[0ms\u001b[0m\u001b[1;33m.\u001b[0m\u001b[0msend\u001b[0m\u001b[1;33m(\u001b[0m\u001b[0mmessage\u001b[0m\u001b[1;33m)\u001b[0m\u001b[1;33m\u001b[0m\u001b[0m\n\u001b[0;32m      4\u001b[0m \u001b[0mtime\u001b[0m\u001b[1;33m.\u001b[0m\u001b[0msleep\u001b[0m\u001b[1;33m(\u001b[0m\u001b[1;36m3\u001b[0m\u001b[1;33m)\u001b[0m\u001b[1;33m\u001b[0m\u001b[0m\n\u001b[1;32m----> 5\u001b[1;33m \u001b[0mdata\u001b[0m \u001b[1;33m=\u001b[0m \u001b[0ms\u001b[0m\u001b[1;33m.\u001b[0m\u001b[0mrecv\u001b[0m\u001b[1;33m(\u001b[0m\u001b[0mbuffer_size\u001b[0m\u001b[1;33m)\u001b[0m\u001b[1;33m\u001b[0m\u001b[0m\n\u001b[0m\u001b[0;32m      6\u001b[0m \u001b[1;32mprint\u001b[0m\u001b[1;33m(\u001b[0m \u001b[0mdata\u001b[0m\u001b[1;33m)\u001b[0m\u001b[1;33m\u001b[0m\u001b[0m\n",
      "\u001b[1;31merror\u001b[0m: [Errno 10053] An established connection was aborted by the software in your host machine"
     ]
    }
   ],
   "source": [
    "message = '[SIGN_OUT]'\n",
    "\n",
    "s.send(message)\n",
    "time.sleep(3)\n",
    "data = s.recv(buffer_size)\n",
    "print( data)"
   ]
  },
  {
   "cell_type": "code",
   "execution_count": 19,
   "metadata": {
    "collapsed": true
   },
   "outputs": [],
   "source": [
    "s.close()"
   ]
  }
 ],
 "metadata": {
  "anaconda-cloud": {},
  "kernelspec": {
   "display_name": "Python [default]",
   "language": "python",
   "name": "python3"
  },
  "language_info": {
   "codemirror_mode": {
    "name": "ipython",
    "version": 3
   },
   "file_extension": ".py",
   "mimetype": "text/x-python",
   "name": "python",
   "nbconvert_exporter": "python",
   "pygments_lexer": "ipython3",
   "version": "3.5.2"
  }
 },
 "nbformat": 4,
 "nbformat_minor": 0
}
